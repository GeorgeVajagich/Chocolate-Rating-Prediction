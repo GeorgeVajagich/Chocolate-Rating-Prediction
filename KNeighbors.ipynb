{
 "cells": [
  {
   "cell_type": "code",
   "execution_count": 1,
   "metadata": {},
   "outputs": [],
   "source": [
    "# importing the packages needed\n",
    "import matplotlib.pyplot as plt\n",
    "import numpy as np\n",
    "import csv\n",
    "import pandas as pd\n",
    "from sklearn.model_selection import train_test_split\n",
    "from sklearn.neighbors import KNeighborsRegressor\n"
   ]
  },
  {
   "cell_type": "code",
   "execution_count": 2,
   "metadata": {},
   "outputs": [],
   "source": [
    "# reading the csv with the data and converting the data to a dataframe\n",
    "df = pd.read_csv(\"chocolate_bars_final.csv\") "
   ]
  },
  {
   "cell_type": "code",
   "execution_count": 3,
   "metadata": {},
   "outputs": [
    {
     "name": "stdout",
     "output_type": "stream",
     "text": [
      "      manufacturer  company_location  year_reviewed  bean_origin  \\\n",
      "0                0                62           2019           52   \n",
      "1                0                62           2019           13   \n",
      "2                0                62           2019           28   \n",
      "3                0                62           2021           16   \n",
      "4                0                62           2021           60   \n",
      "...            ...               ...            ...          ...   \n",
      "2525           579                 3           2014            2   \n",
      "2526           579                 3           2017            8   \n",
      "2527           579                 3           2018            2   \n",
      "2528           579                 3           2018            9   \n",
      "2529           579                 3           2018            1   \n",
      "\n",
      "      cocoa_percent  beans_contained  sugar_contained  \\\n",
      "0              76.0                1                1   \n",
      "1              76.0                1                1   \n",
      "2              76.0                1                1   \n",
      "3              68.0                1                1   \n",
      "4              72.0                1                1   \n",
      "...             ...              ...              ...   \n",
      "2525           80.0                1                1   \n",
      "2526           75.0                1                1   \n",
      "2527           75.0                1                1   \n",
      "2528           70.0                1                1   \n",
      "2529           72.0                1                1   \n",
      "\n",
      "      sugar_non_sweetner_contained  cacao_butter_contained  \\\n",
      "0                                0                       1   \n",
      "1                                0                       1   \n",
      "2                                0                       1   \n",
      "3                                0                       1   \n",
      "4                                0                       1   \n",
      "...                            ...                     ...   \n",
      "2525                             1                       1   \n",
      "2526                             0                       1   \n",
      "2527                             0                       1   \n",
      "2528                             0                       1   \n",
      "2529                             0                       1   \n",
      "\n",
      "      lecithin_contained  vanilla_contained  salt_contained  rating  \n",
      "0                      0                  0               0    3.25  \n",
      "1                      0                  0               0    3.50  \n",
      "2                      0                  0               0    3.75  \n",
      "3                      0                  0               0    3.00  \n",
      "4                      0                  0               0    3.00  \n",
      "...                  ...                ...             ...     ...  \n",
      "2525                   0                  0               1    2.75  \n",
      "2526                   0                  0               0    3.75  \n",
      "2527                   0                  0               0    3.00  \n",
      "2528                   0                  0               0    3.25  \n",
      "2529                   0                  0               0    3.50  \n",
      "\n",
      "[2530 rows x 13 columns]\n"
     ]
    }
   ],
   "source": [
    "# printing the dataframe to make sure it was read in correctly\n",
    "print(df)"
   ]
  },
  {
   "cell_type": "code",
   "execution_count": 4,
   "metadata": {},
   "outputs": [],
   "source": [
    "# creating x and y values, y is the rating x is data used to predict the rating\n",
    "x=df.drop([\"rating\"],axis=1).values\n",
    "y=df[\"rating\"].values"
   ]
  },
  {
   "cell_type": "code",
   "execution_count": 5,
   "metadata": {},
   "outputs": [],
   "source": [
    "# splitting the data into a training dataset with 80% of the data and a test dataset with 20% of the data\n",
    "\n",
    "x_train,x_test,y_train,y_test,=train_test_split(x,y,test_size=0.2,random_state=0)"
   ]
  },
  {
   "cell_type": "code",
   "execution_count": 6,
   "metadata": {},
   "outputs": [
    {
     "data": {
      "text/plain": [
       "KNeighborsRegressor(n_neighbors=1)"
      ]
     },
     "execution_count": 6,
     "metadata": {},
     "output_type": "execute_result"
    }
   ],
   "source": [
    "# creating K-nearest neighbors model with k=1 and training it on the training dataset\n",
    "\n",
    "neigh = KNeighborsRegressor(n_neighbors=1)\n",
    "neigh.fit(x, y)"
   ]
  },
  {
   "cell_type": "code",
   "execution_count": 7,
   "metadata": {},
   "outputs": [
    {
     "name": "stdout",
     "output_type": "stream",
     "text": [
      "[2.75 2.75 2.75 3.   3.25 3.75 3.25 2.75 3.   3.75 2.   3.75 2.75 3.75\n",
      " 3.   3.25 2.5  2.75 3.75 3.75 2.75 3.   3.   3.5  4.   2.75 2.75 2.75\n",
      " 3.25 3.5  2.75 2.5  3.75 2.5  3.75 3.5  3.5  3.5  3.   3.5  3.25 3.25\n",
      " 3.25 2.75 3.25 3.25 3.75 3.5  3.   2.75 2.5  2.5  3.75 3.   3.   3.25\n",
      " 3.25 3.   3.   3.75 3.5  3.25 3.5  3.5  3.   2.5  3.25 3.25 3.5  3.5\n",
      " 3.   4.   3.25 2.75 3.   3.   3.5  2.5  3.5  3.   3.5  2.75 3.5  3.\n",
      " 3.   3.25 3.75 3.5  3.5  3.25 3.25 3.25 3.75 3.   3.75 3.75 3.75 3.25\n",
      " 2.75 3.25 3.75 2.   3.25 3.5  3.   2.75 2.5  3.   2.5  3.5  2.5  3.5\n",
      " 3.   3.25 3.25 3.25 2.75 3.   3.   3.   3.5  3.25 3.5  3.   3.   3.5\n",
      " 3.25 3.25 3.75 2.5  3.   3.75 3.   2.75 3.   3.   3.   3.   2.75 3.\n",
      " 2.75 3.75 2.75 2.75 3.   3.75 2.75 3.25 3.25 3.5  3.   3.5  2.5  3.\n",
      " 3.   3.   3.25 3.75 3.5  2.75 3.5  3.5  3.25 3.75 3.75 3.5  2.75 3.\n",
      " 2.75 4.   3.5  3.75 3.25 3.   3.   3.   3.25 3.   3.5  2.75 3.25 3.25\n",
      " 3.75 3.   3.   2.5  2.75 3.   2.75 3.75 2.5  2.5  3.   2.75 2.75 3.\n",
      " 3.5  2.75 3.5  3.   3.25 3.5  2.75 3.25 3.5  3.5  2.75 2.75 2.5  3.\n",
      " 2.5  3.   3.   3.   3.   3.5  4.   3.75 3.5  3.75 3.75 3.25 3.25 3.25\n",
      " 3.   3.5  4.   3.   3.75 3.25 3.25 2.   3.25 3.   2.75 3.   3.25 3.\n",
      " 2.75 3.25 3.   3.5  3.   2.5  4.   3.   3.5  3.25 3.5  3.5  2.75 3.25\n",
      " 2.75 3.5  3.5  3.25 3.   2.75 2.75 3.25 2.5  3.25 2.75 3.75 2.75 2.75\n",
      " 2.5  3.75 2.75 3.25 3.   3.25 2.5  3.5  3.75 3.   3.   3.25 2.5  3.\n",
      " 3.5  3.75 3.5  3.75 3.25 3.5  3.25 4.   3.25 2.75 3.   3.75 3.   3.5\n",
      " 2.75 3.   2.75 3.25 3.25 3.25 3.   3.25 3.   3.5  3.5  3.   4.   2.75\n",
      " 3.5  3.25 3.5  2.75 3.25 3.25 4.   3.25 3.5  3.5  3.   4.   2.75 3.\n",
      " 3.5  3.75 3.25 3.5  2.5  3.5  3.25 3.25 3.   3.5  3.   3.   3.5  3.25\n",
      " 3.   3.   2.5  3.5  2.5  3.   3.   3.   3.   2.   3.75 3.   3.5  4.\n",
      " 3.   3.5  3.5  3.   2.5  3.75 3.5  3.5  3.   2.75 3.5  2.75 2.75 3.5\n",
      " 3.5  2.75 3.25 3.   3.75 3.5  3.25 2.75 2.75 3.75 3.25 3.25 3.75 3.5\n",
      " 3.   3.   2.5  2.75 3.   3.25 3.25 3.5  3.   3.5  2.75 3.75 3.   3.75\n",
      " 3.   3.5  3.   3.5  3.   3.5  3.   2.75 3.5  3.25 3.5  3.5  3.   3.5\n",
      " 3.   2.5  3.5  2.75 3.25 2.25 2.5  3.   2.5  3.25 3.5  3.5  3.   2.75\n",
      " 3.   2.75 1.5  4.   3.25 3.   3.25 2.75 3.5  2.75 3.25 3.   3.75 3.5\n",
      " 2.75 3.5  3.5  3.25 2.75 2.75 4.   3.5  3.   3.25 2.75 3.   3.5  3.75\n",
      " 3.5  2.   3.   2.5  3.   4.   3.75 4.   2.5  3.5  2.75 2.75 3.5  3.5\n",
      " 3.25 2.75 3.   2.75 2.   2.5  2.75 3.   3.5  3.75 3.75 3.   4.   2.5\n",
      " 3.5  3.   3.75 2.75 3.25 3.   3.75 3.5  3.5  3.75 3.   2.75 2.75 3.\n",
      " 3.   2.5  3.25 3.25 3.   4.   2.75 3.25 3.25 3.25 3.25 2.25 2.5  3.\n",
      " 3.   4.  ]\n"
     ]
    }
   ],
   "source": [
    "# predicting the rating of each chocolate in the test dataset and pringint the output\n",
    "y_pred=neigh.predict(x_test)\n",
    "print(y_pred)"
   ]
  },
  {
   "cell_type": "code",
   "execution_count": 8,
   "metadata": {},
   "outputs": [
    {
     "data": {
      "text/plain": [
       "0.922045368745975"
      ]
     },
     "execution_count": 8,
     "metadata": {},
     "output_type": "execute_result"
    }
   ],
   "source": [
    "# finding the r^2 score of the correlation between the true values of the test datset and the values predicted by the model\n",
    "from sklearn.metrics import r2_score\n",
    "r2_score(y_test,y_pred)"
   ]
  },
  {
   "cell_type": "code",
   "execution_count": 9,
   "metadata": {},
   "outputs": [
    {
     "data": {
      "text/plain": [
       "Text(0, 0.5, 'predicted')"
      ]
     },
     "execution_count": 9,
     "metadata": {},
     "output_type": "execute_result"
    },
    {
     "data": {
      "image/png": "[encoded data removed]",
      "text/plain": [
       "<Figure size 432x288 with 1 Axes>"
      ]
     },
     "metadata": {
      "needs_background": "light"
     },
     "output_type": "display_data"
    }
   ],
   "source": [
    "# graphing the correlation between the true values of the test datset and the values predicted by the model\n",
    "plt.scatter(y_test,y_pred,s=1)\n",
    "plt.xlabel(\"actual\")\n",
    "plt.ylabel(\"predicted\")"
   ]
  }
 ],
 "metadata": {
  "kernelspec": {
   "display_name": "Python 3",
   "language": "python",
   "name": "python3"
  },
  "language_info": {
   "codemirror_mode": {
    "name": "ipython",
    "version": 3
   },
   "file_extension": ".py",
   "mimetype": "text/x-python",
   "name": "python",
   "nbconvert_exporter": "python",
   "pygments_lexer": "ipython3",
   "version": "3.8.5"
  }
 },
 "nbformat": 4,
 "nbformat_minor": 4
}
